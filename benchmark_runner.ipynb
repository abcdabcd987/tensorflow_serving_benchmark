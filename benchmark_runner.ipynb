{
 "metadata": {
  "language_info": {
   "codemirror_mode": {
    "name": "ipython",
    "version": 3
   },
   "file_extension": ".py",
   "mimetype": "text/x-python",
   "name": "python",
   "nbconvert_exporter": "python",
   "pygments_lexer": "ipython3",
   "version": "3.8.5-final"
  },
  "orig_nbformat": 2,
  "kernelspec": {
   "name": "python38564bit13e786327e864b6b8a0b25f674ce5abb",
   "display_name": "Python 3.8.5 64-bit"
  }
 },
 "nbformat": 4,
 "nbformat_minor": 2,
 "cells": [
  {
   "cell_type": "code",
   "execution_count": null,
   "metadata": {},
   "outputs": [],
   "source": [
    "# It is faster to import benchmark as a python package once to run multiple benchmarks\n",
    "\n",
    "import benchmark\n",
    "\n",
    "import sys\n",
    "sys.argv = sys.argv[:1]"
   ]
  },
  {
   "cell_type": "code",
   "execution_count": null,
   "metadata": {},
   "outputs": [],
   "source": [
    "benchmark.FLAGS.model_name='default'\n",
    "benchmark.FLAGS.signature_name='predict'\n",
    "benchmark.FLAGS.port=8500\n",
    "benchmark.FLAGS.input_name='input_example_tensor'\n",
    "benchmark.FLAGS.tfrecord_dataset_path='/usr/local/google/home/alekseyv/snap/ai-platform-benchmarks/data/data-00-of-09.tfrecord'\n",
    "benchmark.FLAGS.qps_range='[100,150,200]'\n",
    "benchmark.FLAGS.num_requests=200\n",
    "benchmark.FLAGS.batch_size=400 \n",
    "benchmark.FLAGS.csv_report_filename='report.csv' \n",
    "\n"
   ]
  },
  {
   "cell_type": "code",
   "execution_count": null,
   "metadata": {
    "tags": []
   },
   "outputs": [],
   "source": [
    "benchmark.FLAGS.num_requests=1\n",
    "benchmark.FLAGS.port=8500\n",
    "benchmark.FLAGS.mode='grpc'\n",
    "benchmark.FLAGS.qps_range='[10]'\n",
    "benchmark.FLAGS.workers = 1\n",
    "benchmark.main('')"
   ]
  },
  {
   "cell_type": "code",
   "execution_count": null,
   "metadata": {
    "tags": [
     "outputPrepend"
    ]
   },
   "outputs": [],
   "source": [
    "!/bin/python3 ./benchmark.py \\\n",
    "    --model_name='default' \\\n",
    "    --signature_name='predict' \\\n",
    "    --port=8500 \\\n",
    "    --input_name='input_example_tensor' \\\n",
    "    --tfrecord_dataset_path='/usr/local/google/home/alekseyv/snap/ai-platform-benchmarks/data/data-00-of-09.tfrecord' \\\n",
    "    --qps_range='[10,30,40,50,55,60,65,70]' \\\n",
    "    --num_requests=500 \\\n",
    "    --workers=5 \\\n",
    "    --batch_size=400 \\\n",
    "    --csv_report_filename='benchmark_qps_grte.csv' \\\n",
    "    --mode='grpc' \\\n",
    "    --distribution='uniform'"
   ]
  },
  {
   "cell_type": "code",
   "execution_count": null,
   "metadata": {},
   "outputs": [],
   "source": []
  }
 ]
}